{
  "nbformat": 4,
  "nbformat_minor": 2,
  "metadata": {
    "colab": {
      "name": "Untitled0.ipynb",
      "provenance": [],
      "collapsed_sections": []
    },
    "kernelspec": {
      "name": "python3",
      "display_name": "Python 3.9.1 64-bit"
    },
    "language_info": {
      "name": "python",
      "version": "3.9.1",
      "mimetype": "text/x-python",
      "codemirror_mode": {
        "name": "ipython",
        "version": 3
      },
      "pygments_lexer": "ipython3",
      "nbconvert_exporter": "python",
      "file_extension": ".py"
    },
    "accelerator": "GPU",
    "interpreter": {
      "hash": "38740d3277777e2cd7c6c2cc9d8addf5118fdf3f82b1b39231fd12aeac8aee8b"
    }
  },
  "cells": [
    {
      "cell_type": "code",
      "execution_count": 1,
      "source": [
        "import tensorflow as tf\r\n",
        "import pandas as pd\r\n",
        "import numpy as np \r\n",
        "import matplotlib.pyplot as plt"
      ],
      "outputs": [],
      "metadata": {
        "id": "_kZOWk0SAJSV"
      }
    },
    {
      "cell_type": "code",
      "execution_count": 2,
      "source": [
        "X_train , X_test = np.load('X_train.npy'), np.load('X_test.npy')"
      ],
      "outputs": [],
      "metadata": {
        "id": "RKxxeM1rAJJV"
      }
    },
    {
      "cell_type": "code",
      "execution_count": 4,
      "source": [
        "y_train ,y_test = np.load('y_train.npy'), np.load('y_test.npy')"
      ],
      "outputs": [],
      "metadata": {
        "id": "vjuGsqSZK6GZ"
      }
    },
    {
      "cell_type": "code",
      "execution_count": 5,
      "source": [
        "print(y_test.shape, y_train.shape)"
      ],
      "outputs": [
        {
          "output_type": "stream",
          "name": "stdout",
          "text": [
            "(33468,) (133870,)\n"
          ]
        }
      ],
      "metadata": {
        "id": "92MJFWXRK1k3",
        "colab": {
          "base_uri": "https://localhost:8080/"
        },
        "outputId": "2660c420-c134-48aa-8aab-91310a00c672"
      }
    },
    {
      "cell_type": "code",
      "execution_count": 6,
      "source": [
        "print(X_train.shape, X_test.shape)\r\n",
        "\r\n"
      ],
      "outputs": [
        {
          "output_type": "stream",
          "name": "stdout",
          "text": [
            "(133870, 28, 28, 1) (33468, 28, 28, 1)\n"
          ]
        }
      ],
      "metadata": {
        "id": "FpW6dowiKolQ",
        "colab": {
          "base_uri": "https://localhost:8080/"
        },
        "outputId": "243383df-77bb-49c1-bdc0-a0d64758c559"
      }
    },
    {
      "cell_type": "code",
      "execution_count": 7,
      "source": [
        "def model_CNN():\r\n",
        "  model = tf.keras.Sequential([\r\n",
        "            tf.keras.layers.Conv2D(30,(5,5),input_shape=[28,28,1],activation=\"relu\"),\r\n",
        "            tf.keras.layers.MaxPooling2D(2,2),\r\n",
        "            tf.keras.layers.Conv2D(15,(3,3),activation=\"relu\"),\r\n",
        "            tf.keras.layers.MaxPooling2D(2,2),\r\n",
        "            tf.keras.layers.Flatten(),\r\n",
        "            tf.keras.layers.Dense(128,activation=\"relu\"),\r\n",
        "            tf.keras.layers.Dense(50,activation=\"relu\"),\r\n",
        "            tf.keras.layers.Dense(14,activation=\"softmax\")\r\n",
        "        ])\r\n",
        "  return model "
      ],
      "outputs": [],
      "metadata": {
        "id": "Ezge4E-w6QGc"
      }
    },
    {
      "cell_type": "code",
      "execution_count": 8,
      "source": [
        "model = model_CNN()\r\n",
        "model.summary()"
      ],
      "outputs": [
        {
          "output_type": "stream",
          "name": "stdout",
          "text": [
            "Model: \"sequential\"\n",
            "_________________________________________________________________\n",
            "Layer (type)                 Output Shape              Param #   \n",
            "=================================================================\n",
            "conv2d (Conv2D)              (None, 24, 24, 30)        780       \n",
            "_________________________________________________________________\n",
            "max_pooling2d (MaxPooling2D) (None, 12, 12, 30)        0         \n",
            "_________________________________________________________________\n",
            "conv2d_1 (Conv2D)            (None, 10, 10, 15)        4065      \n",
            "_________________________________________________________________\n",
            "max_pooling2d_1 (MaxPooling2 (None, 5, 5, 15)          0         \n",
            "_________________________________________________________________\n",
            "flatten (Flatten)            (None, 375)               0         \n",
            "_________________________________________________________________\n",
            "dense (Dense)                (None, 128)               48128     \n",
            "_________________________________________________________________\n",
            "dense_1 (Dense)              (None, 50)                6450      \n",
            "_________________________________________________________________\n",
            "dense_2 (Dense)              (None, 14)                714       \n",
            "=================================================================\n",
            "Total params: 60,137\n",
            "Trainable params: 60,137\n",
            "Non-trainable params: 0\n",
            "_________________________________________________________________\n"
          ]
        }
      ],
      "metadata": {
        "id": "b1PEn-k18DT9",
        "colab": {
          "base_uri": "https://localhost:8080/"
        },
        "outputId": "5d6e1813-d3d5-4d65-c21c-b34bb68527da"
      }
    },
    {
      "cell_type": "code",
      "execution_count": 11,
      "source": [
        "model.compile(metrics=[\"accuracy\"], loss=\"sparse_categorical_crossentropy\", optimizer=\"adam\")\r\n",
        "history = model.fit(X_train , y_train, validation_split = 0.20, shuffle = True, epochs = 15)\r\n",
        "plt.plot(history.history['accuracy'])\r\n",
        "plt.plot(history.history['val_accuracy'])\r\n",
        "plt.title('model accuracy')\r\n",
        "plt.ylabel('accuracy')\r\n",
        "plt.xlabel('epoch')\r\n",
        "plt.legend(['train', 'test'], loc='upper left')\r\n",
        "plt.show()"
      ],
      "outputs": [
        {
          "output_type": "stream",
          "name": "stdout",
          "text": [
            "Epoch 1/15\n",
            "3347/3347 [==============================] - 52s 15ms/step - loss: 0.0127 - accuracy: 0.9966 - val_loss: 0.0248 - val_accuracy: 0.9960\n",
            "Epoch 2/15\n",
            "3347/3347 [==============================] - 52s 16ms/step - loss: 0.0106 - accuracy: 0.9971 - val_loss: 0.0263 - val_accuracy: 0.9965\n",
            "Epoch 3/15\n",
            "3347/3347 [==============================] - 44s 13ms/step - loss: 0.0121 - accuracy: 0.9969 - val_loss: 0.0324 - val_accuracy: 0.9943\n",
            "Epoch 4/15\n",
            "3347/3347 [==============================] - 43s 13ms/step - loss: 0.0107 - accuracy: 0.9972 - val_loss: 0.0291 - val_accuracy: 0.9953\n",
            "Epoch 5/15\n",
            "3347/3347 [==============================] - 46s 14ms/step - loss: 0.0118 - accuracy: 0.9968 - val_loss: 0.0246 - val_accuracy: 0.9967\n",
            "Epoch 6/15\n",
            "3347/3347 [==============================] - 45s 13ms/step - loss: 0.0105 - accuracy: 0.9972 - val_loss: 0.0306 - val_accuracy: 0.9957\n",
            "Epoch 7/15\n",
            "3347/3347 [==============================] - 43s 13ms/step - loss: 0.0104 - accuracy: 0.9976 - val_loss: 0.0325 - val_accuracy: 0.9943\n",
            "Epoch 8/15\n",
            "3347/3347 [==============================] - 43s 13ms/step - loss: 0.0092 - accuracy: 0.9977 - val_loss: 0.0281 - val_accuracy: 0.9962\n",
            "Epoch 9/15\n",
            "3347/3347 [==============================] - 41s 12ms/step - loss: 0.0107 - accuracy: 0.9973 - val_loss: 0.0246 - val_accuracy: 0.9969\n",
            "Epoch 10/15\n",
            "3347/3347 [==============================] - 42s 13ms/step - loss: 0.0090 - accuracy: 0.9978 - val_loss: 0.0326 - val_accuracy: 0.9946\n",
            "Epoch 11/15\n",
            "3347/3347 [==============================] - 44s 13ms/step - loss: 0.0091 - accuracy: 0.9978 - val_loss: 0.0315 - val_accuracy: 0.9953\n",
            "Epoch 12/15\n",
            "3347/3347 [==============================] - 42s 13ms/step - loss: 0.0082 - accuracy: 0.9979 - val_loss: 0.0312 - val_accuracy: 0.9968\n",
            "Epoch 13/15\n",
            "3347/3347 [==============================] - 43s 13ms/step - loss: 0.0083 - accuracy: 0.9979 - val_loss: 0.0294 - val_accuracy: 0.9966\n",
            "Epoch 14/15\n",
            "3347/3347 [==============================] - 48s 14ms/step - loss: 0.0092 - accuracy: 0.9977 - val_loss: 0.0262 - val_accuracy: 0.9968\n",
            "Epoch 15/15\n",
            "3347/3347 [==============================] - 40s 12ms/step - loss: 0.0086 - accuracy: 0.9978 - val_loss: 0.0320 - val_accuracy: 0.9956\n"
          ]
        }
      ],
      "metadata": {
        "id": "LoiDQAx28IuS",
        "colab": {
          "base_uri": "https://localhost:8080/",
          "height": 821
        },
        "outputId": "605c0b0b-9ef6-4384-9fc2-26de5dd9af83"
      }
    },
    {
      "cell_type": "code",
      "execution_count": 13,
      "source": [
        "from sklearn.metrics import confusion_matrix\r\n",
        "from sklearn.metrics import confusion_matrix, ConfusionMatrixDisplay\r\n",
        "y_pred = model.predict(X_test)\r\n",
        "y_pred_2 = []\r\n",
        "for i in y_pred:\r\n",
        "   y_pred_2.append(np.argmax(i))\r\n",
        "print(y_pred_2)"
      ],
      "outputs": [],
      "metadata": {
        "id": "-AlODwFS8Ilb",
        "colab": {
          "base_uri": "https://localhost:8080/"
        },
        "outputId": "46d8d462-3e31-4e54-dc5f-d8a10bb0034f"
      }
    },
    {
      "cell_type": "code",
      "execution_count": 14,
      "source": [
        "results = model.evaluate(X_test, y_test)\r\n",
        "print('test_loss:',results[0]) \r\n",
        "print('Accuracy = ', round(results[1]*100,2),\"%\")"
      ],
      "outputs": [
        {
          "output_type": "stream",
          "name": "stdout",
          "text": [
            "1046/1046 [==============================] - 3s 3ms/step - loss: 0.0252 - accuracy: 0.9956\n",
            "Accuracy =  99.56 %\n"
          ]
        }
      ],
      "metadata": {
        "id": "WWPYm7OD80bK",
        "colab": {
          "base_uri": "https://localhost:8080/"
        },
        "outputId": "5172b45b-d01c-4093-9d1b-b96e2be04624"
      }
    }
  ]
}